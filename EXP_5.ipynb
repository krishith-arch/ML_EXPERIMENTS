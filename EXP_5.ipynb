{
  "nbformat": 4,
  "nbformat_minor": 0,
  "metadata": {
    "colab": {
      "provenance": [],
      "include_colab_link": true
    },
    "kernelspec": {
      "name": "python3",
      "display_name": "Python 3"
    },
    "language_info": {
      "name": "python"
    }
  },
  "cells": [
    {
      "cell_type": "markdown",
      "metadata": {
        "id": "view-in-github",
        "colab_type": "text"
      },
      "source": [
        "<a href=\"https://colab.research.google.com/github/krishith-arch/ML_EXPERIMENTS/blob/main/EXP_5.ipynb\" target=\"_parent\"><img src=\"https://colab.research.google.com/assets/colab-badge.svg\" alt=\"Open In Colab\"/></a>"
      ]
    },
    {
      "cell_type": "code",
      "execution_count": null,
      "metadata": {
        "id": "5lY8YnSGRLuy"
      },
      "outputs": [],
      "source": [
        "import pandas as pd\n",
        "from sklearn.cluster import KMeans\n",
        "from sklearn.datasets import load_iris\n",
        "from sklearn.metrics import confusion_matrix, accuracy_score"
      ]
    },
    {
      "cell_type": "code",
      "source": [
        "#Load Inbuilt Iris dataset\n",
        "\n",
        "iris = load_iris()\n",
        "X = iris.data\n",
        "y = iris.target  # actual labels"
      ],
      "metadata": {
        "id": "4SqLsnX0Uh8-"
      },
      "execution_count": null,
      "outputs": []
    },
    {
      "cell_type": "code",
      "source": [
        "#Apply KMeans(3 Clusters For 3 Flower Types)\n",
        "\n",
        "kmeans = KMeans(n_clusters=3, random_state=42, n_init=\"auto\")\n",
        "y_kmeans = kmeans.fit_predict(X)"
      ],
      "metadata": {
        "id": "ZPXFZLN3UmXQ"
      },
      "execution_count": null,
      "outputs": []
    },
    {
      "cell_type": "code",
      "source": [
        "#Create DataFrames for Results\n",
        "\n",
        "df = pd.DataFrame(X, columns=iris.feature_names)\n",
        "df['Actual'] = y\n",
        "df['Cluster'] = y_kmeans\n",
        "\n",
        "print(\"Cluster Centers:\\n\", pd.DataFrame(kmeans.cluster_centers_, columns=iris.feature_names))\n",
        "print(\"\\nSample clustered \\n\", df.head())"
      ],
      "metadata": {
        "colab": {
          "base_uri": "https://localhost:8080/"
        },
        "id": "FUgLZeW0Ux_w",
        "outputId": "b9baff7b-2da5-4b5e-e458-e5f14e414cd6"
      },
      "execution_count": null,
      "outputs": [
        {
          "output_type": "stream",
          "name": "stdout",
          "text": [
            "Cluster Centers:\n",
            "    sepal length (cm)  sepal width (cm)  petal length (cm)  petal width (cm)\n",
            "0           6.853846          3.076923           5.715385          2.053846\n",
            "1           5.006000          3.428000           1.462000          0.246000\n",
            "2           5.883607          2.740984           4.388525          1.434426\n",
            "\n",
            "Sample clustered \n",
            "    sepal length (cm)  sepal width (cm)  petal length (cm)  petal width (cm)  \\\n",
            "0                5.1               3.5                1.4               0.2   \n",
            "1                4.9               3.0                1.4               0.2   \n",
            "2                4.7               3.2                1.3               0.2   \n",
            "3                4.6               3.1                1.5               0.2   \n",
            "4                5.0               3.6                1.4               0.2   \n",
            "\n",
            "   Actual  Cluster  \n",
            "0       0        1  \n",
            "1       0        1  \n",
            "2       0        1  \n",
            "3       0        1  \n",
            "4       0        1  \n"
          ]
        }
      ]
    },
    {
      "cell_type": "code",
      "source": [
        "#Evaluate Clustering\n",
        "\n",
        "cm = confusion_matrix(y, y_kmeans)\n",
        "print(\"\\nConfusion Matrix:\\n\", cm)\n",
        "\n",
        "#Accuracy(after Label allignment, not raw)\n",
        "#Since Cluster Numbers don't correspond to actual labels, accuracy may look low without relabelling"
      ],
      "metadata": {
        "colab": {
          "base_uri": "https://localhost:8080/"
        },
        "id": "jY_UYpSsU1OH",
        "outputId": "50371ea4-e4ec-4967-f6ad-d991867dc420"
      },
      "execution_count": null,
      "outputs": [
        {
          "output_type": "stream",
          "name": "stdout",
          "text": [
            "\n",
            "Confusion Matrix:\n",
            " [[ 0 50  0]\n",
            " [ 3  0 47]\n",
            " [36  0 14]]\n"
          ]
        }
      ]
    }
  ]
}