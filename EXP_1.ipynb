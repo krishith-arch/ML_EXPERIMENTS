{
  "nbformat": 4,
  "nbformat_minor": 0,
  "metadata": {
    "colab": {
      "provenance": [],
      "include_colab_link": true
    },
    "kernelspec": {
      "name": "python3",
      "display_name": "Python 3"
    },
    "language_info": {
      "name": "python"
    }
  },
  "cells": [
    {
      "cell_type": "markdown",
      "metadata": {
        "id": "view-in-github",
        "colab_type": "text"
      },
      "source": [
        "<a href=\"https://colab.research.google.com/github/krishith-arch/ML_EXPERIMENTS/blob/main/EXP_1.ipynb\" target=\"_parent\"><img src=\"https://colab.research.google.com/assets/colab-badge.svg\" alt=\"Open In Colab\"/></a>"
      ]
    },
    {
      "cell_type": "code",
      "execution_count": null,
      "metadata": {
        "colab": {
          "base_uri": "https://localhost:8080/"
        },
        "id": "uyi5ITF2FVMT",
        "outputId": "add0b5c1-0072-4b34-d480-76bb82eb3f22"
      },
      "outputs": [
        {
          "output_type": "stream",
          "name": "stdout",
          "text": [
            "Enter a number:2\n",
            "Enter a number:5\n",
            "The sum of two numbers: 7\n"
          ]
        }
      ],
      "source": [
        "x = int(input(\"Enter a number:\")) #Addition of two numbers\n",
        "y = int(input(\"Enter a number:\"))\n",
        "sum = x + y\n",
        "print(\"The sum of two numbers:\",sum)"
      ]
    },
    {
      "cell_type": "code",
      "source": [
        "a = int(input(\"Enter a number:\")) #Checking whether odd or even\n",
        "if a % 2 == 0:\n",
        "  print(\"The digit is even\")\n",
        "else:\n",
        "  print(\"The digit is odd\")\n"
      ],
      "metadata": {
        "colab": {
          "base_uri": "https://localhost:8080/"
        },
        "id": "CMWtD0DMJCF-",
        "outputId": "35b39bf6-5a3f-441d-929b-2b128413ff8a"
      },
      "execution_count": null,
      "outputs": [
        {
          "output_type": "stream",
          "name": "stdout",
          "text": [
            "Enter a number:4\n",
            "The digit is even\n"
          ]
        }
      ]
    },
    {
      "cell_type": "code",
      "source": [
        "num = int(input(\"Enter any number:\")) #Checking whether prime\n",
        "if num <=1:\n",
        "    print(\"It is not a prime number\")\n",
        "elif num > 1:\n",
        "   for i in range(2,num):\n",
        "       if (num % i) == 0:\n",
        "           print(\" It is not a prime number\")\n",
        "           break\n",
        "   else:\n",
        "       print(\" It is a prime number\")\n",
        "\n",
        "else:\n",
        "   print(\" It is not a prime number\")\n"
      ],
      "metadata": {
        "colab": {
          "base_uri": "https://localhost:8080/"
        },
        "id": "ZtQQt__DKR72",
        "outputId": "3231c928-3ee3-4407-ab86-2bf3088ed412"
      },
      "execution_count": null,
      "outputs": [
        {
          "output_type": "stream",
          "name": "stdout",
          "text": [
            "Enter any number7\n",
            "7 is a prime number\n"
          ]
        }
      ]
    },
    {
      "cell_type": "code",
      "source": [
        "import math\n",
        "num_1 = int(input(\"Enter any number:\")) #Largest of 4 digits\n",
        "num_2 = int(input(\"Enter any number:\"))\n",
        "num_3 = int(input(\"Enter any number:\"))\n",
        "num_4 = int(input(\"Enter any number:\"))\n",
        "digits = [num_1, num_2, num_3, num_4]\n",
        "maxi = max(digits)\n",
        "print(maxi,\"is the largest digit of 4 numbers\")"
      ],
      "metadata": {
        "colab": {
          "base_uri": "https://localhost:8080/"
        },
        "id": "Q4oQbysXLIeO",
        "outputId": "2ec1e9d3-20d1-4248-8e09-f95edbd22e98"
      },
      "execution_count": null,
      "outputs": [
        {
          "output_type": "stream",
          "name": "stdout",
          "text": [
            "Enter any number1\n",
            "Enter any number2\n",
            "Enter any number3\n",
            "Enter any number0\n",
            "3 is the largest digit of 4 numbers\n"
          ]
        }
      ]
    },
    {
      "cell_type": "code",
      "source": [
        "\n",
        "num = int(input(\"Enter any number:\"))#Factorial\n",
        "fact = 1\n",
        "if num < 0:\n",
        "  print(\"It is a negative integer\")\n",
        "elif num == 1 or num == 0:\n",
        "  print(\"The Factorial is 1\")\n",
        "else:\n",
        "  for i in range(1, num+1):\n",
        "    fact = fact*i\n",
        "    print(\"The factorial of\",num, \"is\", fact)\n"
      ],
      "metadata": {
        "colab": {
          "base_uri": "https://localhost:8080/"
        },
        "id": "ku7U13g1POGo",
        "outputId": "197fe185-81cb-4759-8591-67b64d07bf4b"
      },
      "execution_count": null,
      "outputs": [
        {
          "output_type": "stream",
          "name": "stdout",
          "text": [
            "Enter any number:5\n",
            "The factorial of 5 is 1\n",
            "The factorial of 5 is 2\n",
            "The factorial of 5 is 6\n",
            "The factorial of 5 is 24\n",
            "The factorial of 5 is 120\n"
          ]
        }
      ]
    },
    {
      "cell_type": "code",
      "source": [
        "kr = str(input(\"Enter a number:\")) #Reversing a number\n",
        "rev = kr[::-1]\n",
        "print(\"The number is reversed:\", rev)"
      ],
      "metadata": {
        "colab": {
          "base_uri": "https://localhost:8080/"
        },
        "id": "idPDhH0DQG80",
        "outputId": "ed4161ef-9847-4dc5-d555-a778dc0c409b"
      },
      "execution_count": null,
      "outputs": [
        {
          "output_type": "stream",
          "name": "stdout",
          "text": [
            "Enter a number3456\n",
            "The number is reversed: 6543\n"
          ]
        }
      ]
    },
    {
      "cell_type": "code",
      "source": [
        "kr = str(input(\"Enter a string:\")) #Pallindrome\n",
        "rev = kr[::-1]\n",
        "if kr == rev:\n",
        "  print(\"it is a pallindrome\")\n",
        "else:\n",
        "  print(\"it is not a pallindrome\")"
      ],
      "metadata": {
        "colab": {
          "base_uri": "https://localhost:8080/"
        },
        "id": "znmCor1QTeC1",
        "outputId": "e3cc7d89-dd02-4ffd-ba1b-4bc657ff23e4"
      },
      "execution_count": null,
      "outputs": [
        {
          "output_type": "stream",
          "name": "stdout",
          "text": [
            "Enter a stringmalayalam\n",
            "it is a pallindrome\n"
          ]
        }
      ]
    },
    {
      "cell_type": "code",
      "source": [
        "n = input(\"Enter a number: \") #Sum of Digits\n",
        "sum=0\n",
        "for char in n:\n",
        "  sum += int(char)\n",
        "print(\"The Sum Of Digits is\", sum)\n"
      ],
      "metadata": {
        "colab": {
          "base_uri": "https://localhost:8080/"
        },
        "id": "NYfDqisAFVKA",
        "outputId": "0192d82f-64ec-44f1-db57-92a3d10334c0"
      },
      "execution_count": null,
      "outputs": [
        {
          "output_type": "stream",
          "name": "stdout",
          "text": [
            "Enter a number: 1234\n",
            "The Sum Of Digits is 10\n"
          ]
        }
      ]
    },
    {
      "cell_type": "code",
      "source": [
        "num = int(input(\"Enter a number:\")) #Multiplication\n",
        "print(\"The multiplication table is:\")\n",
        "for i in range(1,11):\n",
        "  print(num,\"x\",i,\"=\", num*i)\n"
      ],
      "metadata": {
        "colab": {
          "base_uri": "https://localhost:8080/"
        },
        "id": "fPrcFqwWG2N4",
        "outputId": "e8e39227-699d-4e63-d6dc-65d3672427a3"
      },
      "execution_count": null,
      "outputs": [
        {
          "output_type": "stream",
          "name": "stdout",
          "text": [
            "Enter a number:5\n",
            "The multiplication table is:\n",
            "5 x 1 = 5\n",
            "5 x 2 = 10\n",
            "5 x 3 = 15\n",
            "5 x 4 = 20\n",
            "5 x 5 = 25\n",
            "5 x 6 = 30\n",
            "5 x 7 = 35\n",
            "5 x 8 = 40\n",
            "5 x 9 = 45\n",
            "5 x 10 = 50\n"
          ]
        }
      ]
    },
    {
      "cell_type": "code",
      "source": [
        "nm = int(input(\"Enter a number_1:\"))#Simple Calculator\n",
        "n = int(input(\"Enter a number_2:\"))\n",
        "print(\"This is a calculator and performs four operations - Addition, Multiplication, Subtraction and Division \")\n",
        "print(\"Enter 1 For Performing Addition\")\n",
        "print(\"Enter 2 For Performing Subtraction\")\n",
        "print(\"Enter 3 For Performing Multiplication\")\n",
        "print(\"Enter 4 For Performing Division\")\n",
        "dg = int(input(\"Enter a digit:\"))\n",
        "if dg == 1:\n",
        "  print(\"Performing addittion....\")\n",
        "  print(nm,\"+\", n, \"=\", nm + n)\n",
        "elif dg == 2:\n",
        "  print(\"Performing Subtraction....\")\n",
        "  print(nm,\"-\", n, \"=\", nm - n)\n",
        "elif dg == 3:\n",
        "  print(\"Performing Multiplication....\")\n",
        "  print(nm,\"x\", n, \"=\", nm * n)\n",
        "elif dg == 4:\n",
        "  print(\"Performing Division....\")\n",
        "  print(nm,\"/\", n, \"=\", nm/n)\n",
        "else:\n",
        "  print(\"Please enter digits 1-4\")\n"
      ],
      "metadata": {
        "colab": {
          "base_uri": "https://localhost:8080/"
        },
        "id": "kpYZLduIHUmK",
        "outputId": "9393651f-c74e-441b-e8a3-d4aded7f2f01"
      },
      "execution_count": null,
      "outputs": [
        {
          "output_type": "stream",
          "name": "stdout",
          "text": [
            "Enter a number_1:2\n",
            "Enter a number_2:7\n",
            "This is a calculator and performs four operations - Addition, Multiplication, Subtraction and Division \n",
            "Enter 1 For Performing Addition\n",
            "Enter 2 For Performing Subtraction\n",
            "Enter 3 For Performing Multiplication\n",
            "Enter 4 For Performing Division\n",
            "Enter a digit:2\n",
            "Performing Subtraction....\n",
            "2 - 7 = -5\n"
          ]
        }
      ]
    },
    {
      "cell_type": "code",
      "source": [
        "n = 5 #Pattern\n",
        "ni = \"*\"\n",
        "for i in range(0,n):\n",
        "  print(ni*i)"
      ],
      "metadata": {
        "colab": {
          "base_uri": "https://localhost:8080/"
        },
        "id": "hw_zyEdlKBYJ",
        "outputId": "82d2a1a7-8e70-48c2-81ad-ef3b83c6de2a"
      },
      "execution_count": null,
      "outputs": [
        {
          "output_type": "stream",
          "name": "stdout",
          "text": [
            "\n",
            "*\n",
            "**\n",
            "***\n",
            "****\n"
          ]
        }
      ]
    },
    {
      "cell_type": "code",
      "source": [],
      "metadata": {
        "id": "E0x0BSFlMhoL"
      },
      "execution_count": null,
      "outputs": []
    }
  ]
}